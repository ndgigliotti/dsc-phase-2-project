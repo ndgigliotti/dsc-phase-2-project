{
 "cells": [
  {
   "cell_type": "markdown",
   "metadata": {},
   "source": [
    "# Data Science Project"
   ]
  },
  {
   "cell_type": "markdown",
   "metadata": {},
   "source": [
    "* Name: Author Name\n",
    "* Email:\n"
   ]
  },
  {
   "cell_type": "markdown",
   "metadata": {},
   "source": [
    "## TABLE OF CONTENTS "
   ]
  },
  {
   "cell_type": "markdown",
   "metadata": {},
   "source": [
    "\n",
    "- **[Introduction](#INTRODUCTION)<br>**\n",
    "- **[OBTAIN](#OBTAIN)**<br>\n",
    "- **[SCRUB](#SCRUB)**<br>\n",
    "- **[EXPLORE](#EXPLORE)**<br>\n",
    "- **[MODEL](#MODEL)**<br>\n",
    "- **[iNTERPRET](#iNTERPRET)**<br>\n",
    "- **[Conclusions/Recommendations](#CONCLUSIONS-&-RECOMMENDATIONS)<br>**\n",
    "___"
   ]
  },
  {
   "cell_type": "markdown",
   "metadata": {},
   "source": [
    "# INTRODUCTION"
   ]
  },
  {
   "cell_type": "markdown",
   "metadata": {},
   "source": [
    "> Explain the point of your project and what question you are trying to answer with your modeling.\n",
    "\n"
   ]
  },
  {
   "cell_type": "code",
   "execution_count": 2,
   "metadata": {},
   "outputs": [],
   "source": [
    "import pandas as pd\n",
    "import os"
   ]
  },
  {
   "cell_type": "code",
   "execution_count": 3,
   "metadata": {},
   "outputs": [],
   "source": [
    "import cleaning\n",
    "import utils"
   ]
  },
  {
   "cell_type": "markdown",
   "metadata": {},
   "source": [
    "# OBTAIN"
   ]
  },
  {
   "cell_type": "code",
   "execution_count": 4,
   "metadata": {},
   "outputs": [
    {
     "output_type": "stream",
     "name": "stdout",
     "text": [
      "<class 'pandas.core.frame.DataFrame'>\nRangeIndex: 21597 entries, 0 to 21596\nData columns (total 21 columns):\n #   Column         Non-Null Count  Dtype  \n---  ------         --------------  -----  \n 0   id             21597 non-null  int64  \n 1   date           21597 non-null  object \n 2   price          21597 non-null  float64\n 3   bedrooms       21597 non-null  int64  \n 4   bathrooms      21597 non-null  float64\n 5   sqft_living    21597 non-null  int64  \n 6   sqft_lot       21597 non-null  int64  \n 7   floors         21597 non-null  float64\n 8   waterfront     19221 non-null  float64\n 9   view           21534 non-null  float64\n 10  condition      21597 non-null  int64  \n 11  grade          21597 non-null  int64  \n 12  sqft_above     21597 non-null  int64  \n 13  sqft_basement  21597 non-null  object \n 14  yr_built       21597 non-null  int64  \n 15  yr_renovated   17755 non-null  float64\n 16  zipcode        21597 non-null  int64  \n 17  lat            21597 non-null  float64\n 18  long           21597 non-null  float64\n 19  sqft_living15  21597 non-null  int64  \n 20  sqft_lot15     21597 non-null  int64  \ndtypes: float64(8), int64(11), object(2)\nmemory usage: 3.5+ MB\n"
     ]
    }
   ],
   "source": [
    "df = pd.read_csv(os.path.join(\"data\", \"kc_house_data.csv\"))\n",
    "df.info()"
   ]
  },
  {
   "cell_type": "markdown",
   "metadata": {},
   "source": [
    "# SCRUB"
   ]
  },
  {
   "cell_type": "code",
   "execution_count": 5,
   "metadata": {},
   "outputs": [],
   "source": [
    "overwhelmed = [\"date\",\n",
    "                \"view\",\n",
    "                \"sqft_above\",\n",
    "                \"sqft_basement\",\n",
    "                \"yr_renovated\",\n",
    "                \"zipcode\",\n",
    "                \"lat\",\n",
    "                \"long\",\n",
    "                \"sqft_living15\",\n",
    "                \"sqft_lot15\"]\n",
    "df.drop(columns=overwhelmed, inplace=True)"
   ]
  },
  {
   "cell_type": "code",
   "execution_count": 6,
   "metadata": {},
   "outputs": [
    {
     "output_type": "execute_result",
     "data": {
      "text/plain": [
       "               id     price  bedrooms  bathrooms  sqft_living  sqft_lot  \\\n",
       "0      7129300520  221900.0         3       1.00         1180      5650   \n",
       "1      6414100192  538000.0         3       2.25         2570      7242   \n",
       "2      5631500400  180000.0         2       1.00          770     10000   \n",
       "3      2487200875  604000.0         4       3.00         1960      5000   \n",
       "4      1954400510  510000.0         3       2.00         1680      8080   \n",
       "...           ...       ...       ...        ...          ...       ...   \n",
       "21592   263000018  360000.0         3       2.50         1530      1131   \n",
       "21593  6600060120  400000.0         4       2.50         2310      5813   \n",
       "21594  1523300141  402101.0         2       0.75         1020      1350   \n",
       "21595   291310100  400000.0         3       2.50         1600      2388   \n",
       "21596  1523300157  325000.0         2       0.75         1020      1076   \n",
       "\n",
       "       floors  waterfront  condition  grade  yr_built  \n",
       "0         1.0         NaN          3      7      1955  \n",
       "1         2.0         0.0          3      7      1951  \n",
       "2         1.0         0.0          3      6      1933  \n",
       "3         1.0         0.0          5      7      1965  \n",
       "4         1.0         0.0          3      8      1987  \n",
       "...       ...         ...        ...    ...       ...  \n",
       "21592     3.0         0.0          3      8      2009  \n",
       "21593     2.0         0.0          3      8      2014  \n",
       "21594     2.0         0.0          3      7      2009  \n",
       "21595     2.0         NaN          3      8      2004  \n",
       "21596     2.0         0.0          3      7      2008  \n",
       "\n",
       "[21597 rows x 11 columns]"
      ],
      "text/html": "<div>\n<style scoped>\n    .dataframe tbody tr th:only-of-type {\n        vertical-align: middle;\n    }\n\n    .dataframe tbody tr th {\n        vertical-align: top;\n    }\n\n    .dataframe thead th {\n        text-align: right;\n    }\n</style>\n<table border=\"1\" class=\"dataframe\">\n  <thead>\n    <tr style=\"text-align: right;\">\n      <th></th>\n      <th>id</th>\n      <th>price</th>\n      <th>bedrooms</th>\n      <th>bathrooms</th>\n      <th>sqft_living</th>\n      <th>sqft_lot</th>\n      <th>floors</th>\n      <th>waterfront</th>\n      <th>condition</th>\n      <th>grade</th>\n      <th>yr_built</th>\n    </tr>\n  </thead>\n  <tbody>\n    <tr>\n      <th>0</th>\n      <td>7129300520</td>\n      <td>221900.0</td>\n      <td>3</td>\n      <td>1.00</td>\n      <td>1180</td>\n      <td>5650</td>\n      <td>1.0</td>\n      <td>NaN</td>\n      <td>3</td>\n      <td>7</td>\n      <td>1955</td>\n    </tr>\n    <tr>\n      <th>1</th>\n      <td>6414100192</td>\n      <td>538000.0</td>\n      <td>3</td>\n      <td>2.25</td>\n      <td>2570</td>\n      <td>7242</td>\n      <td>2.0</td>\n      <td>0.0</td>\n      <td>3</td>\n      <td>7</td>\n      <td>1951</td>\n    </tr>\n    <tr>\n      <th>2</th>\n      <td>5631500400</td>\n      <td>180000.0</td>\n      <td>2</td>\n      <td>1.00</td>\n      <td>770</td>\n      <td>10000</td>\n      <td>1.0</td>\n      <td>0.0</td>\n      <td>3</td>\n      <td>6</td>\n      <td>1933</td>\n    </tr>\n    <tr>\n      <th>3</th>\n      <td>2487200875</td>\n      <td>604000.0</td>\n      <td>4</td>\n      <td>3.00</td>\n      <td>1960</td>\n      <td>5000</td>\n      <td>1.0</td>\n      <td>0.0</td>\n      <td>5</td>\n      <td>7</td>\n      <td>1965</td>\n    </tr>\n    <tr>\n      <th>4</th>\n      <td>1954400510</td>\n      <td>510000.0</td>\n      <td>3</td>\n      <td>2.00</td>\n      <td>1680</td>\n      <td>8080</td>\n      <td>1.0</td>\n      <td>0.0</td>\n      <td>3</td>\n      <td>8</td>\n      <td>1987</td>\n    </tr>\n    <tr>\n      <th>...</th>\n      <td>...</td>\n      <td>...</td>\n      <td>...</td>\n      <td>...</td>\n      <td>...</td>\n      <td>...</td>\n      <td>...</td>\n      <td>...</td>\n      <td>...</td>\n      <td>...</td>\n      <td>...</td>\n    </tr>\n    <tr>\n      <th>21592</th>\n      <td>263000018</td>\n      <td>360000.0</td>\n      <td>3</td>\n      <td>2.50</td>\n      <td>1530</td>\n      <td>1131</td>\n      <td>3.0</td>\n      <td>0.0</td>\n      <td>3</td>\n      <td>8</td>\n      <td>2009</td>\n    </tr>\n    <tr>\n      <th>21593</th>\n      <td>6600060120</td>\n      <td>400000.0</td>\n      <td>4</td>\n      <td>2.50</td>\n      <td>2310</td>\n      <td>5813</td>\n      <td>2.0</td>\n      <td>0.0</td>\n      <td>3</td>\n      <td>8</td>\n      <td>2014</td>\n    </tr>\n    <tr>\n      <th>21594</th>\n      <td>1523300141</td>\n      <td>402101.0</td>\n      <td>2</td>\n      <td>0.75</td>\n      <td>1020</td>\n      <td>1350</td>\n      <td>2.0</td>\n      <td>0.0</td>\n      <td>3</td>\n      <td>7</td>\n      <td>2009</td>\n    </tr>\n    <tr>\n      <th>21595</th>\n      <td>291310100</td>\n      <td>400000.0</td>\n      <td>3</td>\n      <td>2.50</td>\n      <td>1600</td>\n      <td>2388</td>\n      <td>2.0</td>\n      <td>NaN</td>\n      <td>3</td>\n      <td>8</td>\n      <td>2004</td>\n    </tr>\n    <tr>\n      <th>21596</th>\n      <td>1523300157</td>\n      <td>325000.0</td>\n      <td>2</td>\n      <td>0.75</td>\n      <td>1020</td>\n      <td>1076</td>\n      <td>2.0</td>\n      <td>0.0</td>\n      <td>3</td>\n      <td>7</td>\n      <td>2008</td>\n    </tr>\n  </tbody>\n</table>\n<p>21597 rows × 11 columns</p>\n</div>"
     },
     "metadata": {},
     "execution_count": 6
    }
   ],
   "source": [
    "df"
   ]
  },
  {
   "cell_type": "code",
   "execution_count": 7,
   "metadata": {},
   "outputs": [
    {
     "output_type": "execute_result",
     "data": {
      "text/plain": [
       "               dup      dup_%   nan      nan_%\n",
       "waterfront   21594  99.986109  2376  11.001528\n",
       "id             177   0.819558     0   0.000000\n",
       "price        17975  83.229152     0   0.000000\n",
       "bedrooms     21585  99.944437     0   0.000000\n",
       "bathrooms    21568  99.865722     0   0.000000\n",
       "sqft_living  20563  95.212298     0   0.000000\n",
       "sqft_lot     11821  54.734454     0   0.000000\n",
       "floors       21591  99.972218     0   0.000000\n",
       "condition    21592  99.976849     0   0.000000\n",
       "grade        21586  99.949067     0   0.000000\n",
       "yr_built     21481  99.462888     0   0.000000"
      ],
      "text/html": "<div>\n<style scoped>\n    .dataframe tbody tr th:only-of-type {\n        vertical-align: middle;\n    }\n\n    .dataframe tbody tr th {\n        vertical-align: top;\n    }\n\n    .dataframe thead th {\n        text-align: right;\n    }\n</style>\n<table border=\"1\" class=\"dataframe\">\n  <thead>\n    <tr style=\"text-align: right;\">\n      <th></th>\n      <th>dup</th>\n      <th>dup_%</th>\n      <th>nan</th>\n      <th>nan_%</th>\n    </tr>\n  </thead>\n  <tbody>\n    <tr>\n      <th>waterfront</th>\n      <td>21594</td>\n      <td>99.986109</td>\n      <td>2376</td>\n      <td>11.001528</td>\n    </tr>\n    <tr>\n      <th>id</th>\n      <td>177</td>\n      <td>0.819558</td>\n      <td>0</td>\n      <td>0.000000</td>\n    </tr>\n    <tr>\n      <th>price</th>\n      <td>17975</td>\n      <td>83.229152</td>\n      <td>0</td>\n      <td>0.000000</td>\n    </tr>\n    <tr>\n      <th>bedrooms</th>\n      <td>21585</td>\n      <td>99.944437</td>\n      <td>0</td>\n      <td>0.000000</td>\n    </tr>\n    <tr>\n      <th>bathrooms</th>\n      <td>21568</td>\n      <td>99.865722</td>\n      <td>0</td>\n      <td>0.000000</td>\n    </tr>\n    <tr>\n      <th>sqft_living</th>\n      <td>20563</td>\n      <td>95.212298</td>\n      <td>0</td>\n      <td>0.000000</td>\n    </tr>\n    <tr>\n      <th>sqft_lot</th>\n      <td>11821</td>\n      <td>54.734454</td>\n      <td>0</td>\n      <td>0.000000</td>\n    </tr>\n    <tr>\n      <th>floors</th>\n      <td>21591</td>\n      <td>99.972218</td>\n      <td>0</td>\n      <td>0.000000</td>\n    </tr>\n    <tr>\n      <th>condition</th>\n      <td>21592</td>\n      <td>99.976849</td>\n      <td>0</td>\n      <td>0.000000</td>\n    </tr>\n    <tr>\n      <th>grade</th>\n      <td>21586</td>\n      <td>99.949067</td>\n      <td>0</td>\n      <td>0.000000</td>\n    </tr>\n    <tr>\n      <th>yr_built</th>\n      <td>21481</td>\n      <td>99.462888</td>\n      <td>0</td>\n      <td>0.000000</td>\n    </tr>\n  </tbody>\n</table>\n</div>"
     },
     "metadata": {},
     "execution_count": 7
    }
   ],
   "source": [
    "cleaning.info(df)"
   ]
  },
  {
   "cell_type": "code",
   "execution_count": 19,
   "metadata": {},
   "outputs": [],
   "source": [
    "df.dropna(subset=[\"waterfront\"], inplace=True)"
   ]
  },
  {
   "cell_type": "code",
   "execution_count": null,
   "metadata": {},
   "outputs": [],
   "source": []
  },
  {
   "cell_type": "markdown",
   "metadata": {},
   "source": [
    "# EXPLORE"
   ]
  },
  {
   "cell_type": "code",
   "execution_count": null,
   "metadata": {},
   "outputs": [],
   "source": []
  },
  {
   "cell_type": "markdown",
   "metadata": {},
   "source": [
    "# MODEL"
   ]
  },
  {
   "cell_type": "code",
   "execution_count": null,
   "metadata": {},
   "outputs": [],
   "source": []
  },
  {
   "cell_type": "markdown",
   "metadata": {},
   "source": [
    "# iNTERPRET"
   ]
  },
  {
   "cell_type": "code",
   "execution_count": null,
   "metadata": {},
   "outputs": [],
   "source": []
  },
  {
   "cell_type": "markdown",
   "metadata": {},
   "source": [
    "# CONCLUSIONS & RECOMMENDATIONS"
   ]
  },
  {
   "cell_type": "markdown",
   "metadata": {},
   "source": [
    "> Summarize your conclusions and bullet-point your list of recommendations, which are based on your modeling results."
   ]
  },
  {
   "source": [
    "# TO DO/FUTURE WORK"
   ],
   "cell_type": "markdown",
   "metadata": {}
  },
  {
   "source": [
    "- "
   ],
   "cell_type": "markdown",
   "metadata": {}
  },
  {
   "cell_type": "code",
   "execution_count": null,
   "metadata": {},
   "outputs": [],
   "source": []
  }
 ],
 "metadata": {
  "kernelspec": {
   "display_name": "learn-env",
   "language": "python",
   "name": "learn-env"
  },
  "language_info": {
   "codemirror_mode": {
    "name": "ipython",
    "version": 3
   },
   "file_extension": ".py",
   "mimetype": "text/x-python",
   "name": "python",
   "nbconvert_exporter": "python",
   "pygments_lexer": "ipython3",
   "version": "3.8.5-final"
  },
  "toc": {
   "base_numbering": 1,
   "nav_menu": {},
   "number_sections": false,
   "sideBar": true,
   "skip_h1_title": false,
   "title_cell": "Table of Contents",
   "title_sidebar": "Contents",
   "toc_cell": false,
   "toc_position": {},
   "toc_section_display": true,
   "toc_window_display": true
  },
  "varInspector": {
   "cols": {
    "lenName": 16,
    "lenType": 16,
    "lenVar": 40
   },
   "kernels_config": {
    "python": {
     "delete_cmd_postfix": "",
     "delete_cmd_prefix": "del ",
     "library": "var_list.py",
     "varRefreshCmd": "print(var_dic_list())"
    },
    "r": {
     "delete_cmd_postfix": ") ",
     "delete_cmd_prefix": "rm(",
     "library": "var_list.r",
     "varRefreshCmd": "cat(var_dic_list()) "
    }
   },
   "types_to_exclude": [
    "module",
    "function",
    "builtin_function_or_method",
    "instance",
    "_Feature"
   ],
   "window_display": false
  }
 },
 "nbformat": 4,
 "nbformat_minor": 2
}