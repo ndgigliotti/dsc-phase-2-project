{
 "metadata": {
  "language_info": {
   "codemirror_mode": {
    "name": "ipython",
    "version": 3
   },
   "file_extension": ".py",
   "mimetype": "text/x-python",
   "name": "python",
   "nbconvert_exporter": "python",
   "pygments_lexer": "ipython3",
   "version": "3.8.5"
  },
  "orig_nbformat": 2,
  "kernelspec": {
   "name": "python385jvsc74a57bd045e948d0256f8c78ae85303b642a175be3add64c95f2eaa9e19fcfd099775c4c",
   "display_name": "Python 3.8.5 64-bit ('learn-env': conda)"
  }
 },
 "nbformat": 4,
 "nbformat_minor": 2,
 "cells": [
  {
   "source": [
    "# Feature Sweeps\n",
    "Warning: do not run this notebook unless you have at least an hour on your hands."
   ],
   "cell_type": "markdown",
   "metadata": {}
  },
  {
   "cell_type": "code",
   "execution_count": 1,
   "metadata": {},
   "outputs": [],
   "source": [
    "import os\n",
    "import pandas as pd"
   ]
  },
  {
   "cell_type": "code",
   "execution_count": 2,
   "metadata": {},
   "outputs": [],
   "source": [
    "%load_ext autoreload\n",
    "%autoreload 2\n",
    "import modeling"
   ]
  },
  {
   "source": [
    "## Unscaled Dataset"
   ],
   "cell_type": "markdown",
   "metadata": {}
  },
  {
   "cell_type": "code",
   "execution_count": 3,
   "metadata": {},
   "outputs": [
    {
     "output_type": "stream",
     "name": "stdout",
     "text": [
      "<class 'pandas.core.frame.DataFrame'>\nInt64Index: 21420 entries, 7129300520 to 1523300157\nData columns (total 27 columns):\n #   Column         Non-Null Count  Dtype   \n---  ------         --------------  -----   \n 0   price          21420 non-null  float64 \n 1   bedrooms       21420 non-null  int64   \n 2   bathrooms      21420 non-null  float64 \n 3   sqft_living    21420 non-null  int64   \n 4   sqft_lot       21420 non-null  int64   \n 5   floors         21420 non-null  float64 \n 6   waterfront     21420 non-null  category\n 7   view           21420 non-null  int64   \n 8   condition      21420 non-null  int64   \n 9   grade          21420 non-null  int64   \n 10  sqft_above     21420 non-null  int64   \n 11  zipcode        21420 non-null  category\n 12  sqft_living15  21420 non-null  int64   \n 13  sqft_lot15     21420 non-null  int64   \n 14  cat_bedrooms   21420 non-null  category\n 15  cat_bathrooms  21420 non-null  category\n 16  cat_condition  21420 non-null  category\n 17  cat_grade      21420 non-null  category\n 18  cat_floors     21420 non-null  category\n 19  cat_view       21420 non-null  category\n 20  nearby_city    21420 non-null  category\n 21  zip_pop        21420 non-null  int64   \n 22  has_basement   21420 non-null  category\n 23  age            21420 non-null  int64   \n 24  cat_age        21420 non-null  category\n 25  lot_area       21420 non-null  category\n 26  lot15_area     21420 non-null  category\ndtypes: category(13), float64(3), int64(11)\nmemory usage: 2.7 MB\n"
     ]
    }
   ],
   "source": [
    "df = pd.read_pickle(os.path.join(\"data\", \"scrubbed_kc_house_data.pkl.bz2\"))\n",
    "df.info()"
   ]
  },
  {
   "source": [
    "I exclude variables that have poor linear relationships with price. I also exclude \"cat_bathrooms\", because it often results in coefficients with bad P-values."
   ],
   "cell_type": "markdown",
   "metadata": {}
  },
  {
   "cell_type": "code",
   "execution_count": 4,
   "metadata": {},
   "outputs": [],
   "source": [
    "df.drop(columns=[\"lot_area\", \"lot15_area\", \"age\", \"cat_age\", \"zip_pop\", \"cat_condition\", \"condition\", \"cat_bathrooms\", \"cat_floors\", \"sqft_lot15\", \"sqft_lot\"], inplace=True)"
   ]
  },
  {
   "cell_type": "code",
   "execution_count": 5,
   "metadata": {},
   "outputs": [
    {
     "output_type": "stream",
     "name": "stdout",
     "text": [
      "0:00:01.249614\n0:00:00.060972\n"
     ]
    }
   ],
   "source": [
    "modeling.ols_sweep(df, \"price\", n_vars=1)\n",
    "modeling.consolidate_results(\"test_models/ols_sweep/price~1/*\")"
   ]
  },
  {
   "cell_type": "code",
   "execution_count": 6,
   "metadata": {},
   "outputs": [
    {
     "output_type": "stream",
     "name": "stdout",
     "text": [
      "0:00:12.243177\n",
      "0:00:00.369810\n"
     ]
    }
   ],
   "source": [
    "modeling.ols_sweep(df, \"price\", n_vars=2)\n",
    "modeling.consolidate_results(\"test_models/ols_sweep/price~2/*\")"
   ]
  },
  {
   "cell_type": "code",
   "execution_count": 7,
   "metadata": {},
   "outputs": [
    {
     "output_type": "stream",
     "name": "stdout",
     "text": [
      "0:01:09.302377\n",
      "0:00:01.408661\n"
     ]
    }
   ],
   "source": [
    "modeling.ols_sweep(df, \"price\", n_vars=3)\n",
    "modeling.consolidate_results(\"test_models/ols_sweep/price~3/*\")"
   ]
  },
  {
   "cell_type": "code",
   "execution_count": 8,
   "metadata": {},
   "outputs": [
    {
     "output_type": "stream",
     "name": "stdout",
     "text": [
      "0:04:10.209376\n",
      "0:00:04.071029\n"
     ]
    }
   ],
   "source": [
    "modeling.ols_sweep(df, \"price\", n_vars=4)\n",
    "modeling.consolidate_results(\"test_models/ols_sweep/price~4/*\")"
   ]
  },
  {
   "cell_type": "code",
   "execution_count": 9,
   "metadata": {},
   "outputs": [
    {
     "output_type": "stream",
     "name": "stdout",
     "text": [
      "0:10:54.971237\n",
      "0:00:09.036488\n"
     ]
    }
   ],
   "source": [
    "modeling.ols_sweep(df, \"price\", n_vars=5)\n",
    "modeling.consolidate_results(\"test_models/ols_sweep/price~5/*\")"
   ]
  },
  {
   "source": [
    "## Scaled Dataset"
   ],
   "cell_type": "markdown",
   "metadata": {}
  },
  {
   "cell_type": "code",
   "execution_count": 10,
   "metadata": {},
   "outputs": [
    {
     "output_type": "stream",
     "name": "stdout",
     "text": [
      "<class 'pandas.core.frame.DataFrame'>\nInt64Index: 21420 entries, 7129300520 to 1523300157\nData columns (total 25 columns):\n #   Column         Non-Null Count  Dtype   \n---  ------         --------------  -----   \n 0   price          21420 non-null  float64 \n 1   bedrooms       21420 non-null  float64 \n 2   bathrooms      21420 non-null  float64 \n 3   sqft_living    21420 non-null  float64 \n 4   sqft_lot       21420 non-null  float64 \n 5   floors         21420 non-null  float64 \n 6   waterfront     21420 non-null  category\n 7   grade          21420 non-null  float64 \n 8   sqft_above     21420 non-null  float64 \n 9   zipcode        21420 non-null  category\n 10  sqft_living15  21420 non-null  float64 \n 11  sqft_lot15     21420 non-null  float64 \n 12  cat_bedrooms   21420 non-null  category\n 13  cat_bathrooms  21420 non-null  category\n 14  cat_condition  21420 non-null  category\n 15  cat_grade      21420 non-null  category\n 16  cat_floors     21420 non-null  category\n 17  cat_view       21420 non-null  category\n 18  nearby_city    21420 non-null  category\n 19  zip_pop        21420 non-null  float64 \n 20  has_basement   21420 non-null  category\n 21  age            21420 non-null  float64 \n 22  cat_age        21420 non-null  category\n 23  lot_area       21420 non-null  category\n 24  lot15_area     21420 non-null  category\ndtypes: category(13), float64(12)\nmemory usage: 2.4 MB\n"
     ]
    }
   ],
   "source": [
    "df = pd.read_pickle(os.path.join(\"data\", \"scaled_kc_house_data.pkl.bz2\"))\n",
    "df.info()"
   ]
  },
  {
   "cell_type": "code",
   "execution_count": 11,
   "metadata": {},
   "outputs": [
    {
     "output_type": "error",
     "ename": "KeyError",
     "evalue": "\"['cat_agezip_pop'] not found in axis\"",
     "traceback": [
      "\u001b[1;31m---------------------------------------------------------------------------\u001b[0m",
      "\u001b[1;31mKeyError\u001b[0m                                  Traceback (most recent call last)",
      "\u001b[1;32m<ipython-input-11-17a9eec890b1>\u001b[0m in \u001b[0;36m<module>\u001b[1;34m\u001b[0m\n\u001b[1;32m----> 1\u001b[1;33m \u001b[0mdf\u001b[0m\u001b[1;33m.\u001b[0m\u001b[0mdrop\u001b[0m\u001b[1;33m(\u001b[0m\u001b[0mcolumns\u001b[0m\u001b[1;33m=\u001b[0m\u001b[1;33m[\u001b[0m\u001b[1;34m\"lot_area\"\u001b[0m\u001b[1;33m,\u001b[0m \u001b[1;34m\"lot15_area\"\u001b[0m\u001b[1;33m,\u001b[0m \u001b[1;34m\"age\"\u001b[0m\u001b[1;33m,\u001b[0m \u001b[1;34m\"cat_age\"\u001b[0m \u001b[1;34m\"zip_pop\"\u001b[0m\u001b[1;33m,\u001b[0m \u001b[1;34m\"cat_floors\"\u001b[0m\u001b[1;33m,\u001b[0m \u001b[1;34m\"cat_condition\"\u001b[0m\u001b[1;33m,\u001b[0m \u001b[1;34m\"cat_bathrooms\"\u001b[0m\u001b[1;33m,\u001b[0m \u001b[1;34m\"sqft_lot15\"\u001b[0m\u001b[1;33m,\u001b[0m \u001b[1;34m\"sqft_lot\"\u001b[0m\u001b[1;33m]\u001b[0m\u001b[1;33m,\u001b[0m \u001b[0minplace\u001b[0m\u001b[1;33m=\u001b[0m\u001b[1;32mTrue\u001b[0m\u001b[1;33m)\u001b[0m\u001b[1;33m\u001b[0m\u001b[1;33m\u001b[0m\u001b[0m\n\u001b[0m",
      "\u001b[1;32m~\\anaconda3\\envs\\learn-env\\lib\\site-packages\\pandas\\core\\frame.py\u001b[0m in \u001b[0;36mdrop\u001b[1;34m(self, labels, axis, index, columns, level, inplace, errors)\u001b[0m\n\u001b[0;32m   4306\u001b[0m                 \u001b[0mweight\u001b[0m  \u001b[1;36m1.0\u001b[0m     \u001b[1;36m0.8\u001b[0m\u001b[1;33m\u001b[0m\u001b[1;33m\u001b[0m\u001b[0m\n\u001b[0;32m   4307\u001b[0m         \"\"\"\n\u001b[1;32m-> 4308\u001b[1;33m         return super().drop(\n\u001b[0m\u001b[0;32m   4309\u001b[0m             \u001b[0mlabels\u001b[0m\u001b[1;33m=\u001b[0m\u001b[0mlabels\u001b[0m\u001b[1;33m,\u001b[0m\u001b[1;33m\u001b[0m\u001b[1;33m\u001b[0m\u001b[0m\n\u001b[0;32m   4310\u001b[0m             \u001b[0maxis\u001b[0m\u001b[1;33m=\u001b[0m\u001b[0maxis\u001b[0m\u001b[1;33m,\u001b[0m\u001b[1;33m\u001b[0m\u001b[1;33m\u001b[0m\u001b[0m\n",
      "\u001b[1;32m~\\anaconda3\\envs\\learn-env\\lib\\site-packages\\pandas\\core\\generic.py\u001b[0m in \u001b[0;36mdrop\u001b[1;34m(self, labels, axis, index, columns, level, inplace, errors)\u001b[0m\n\u001b[0;32m   4151\u001b[0m         \u001b[1;32mfor\u001b[0m \u001b[0maxis\u001b[0m\u001b[1;33m,\u001b[0m \u001b[0mlabels\u001b[0m \u001b[1;32min\u001b[0m \u001b[0maxes\u001b[0m\u001b[1;33m.\u001b[0m\u001b[0mitems\u001b[0m\u001b[1;33m(\u001b[0m\u001b[1;33m)\u001b[0m\u001b[1;33m:\u001b[0m\u001b[1;33m\u001b[0m\u001b[1;33m\u001b[0m\u001b[0m\n\u001b[0;32m   4152\u001b[0m             \u001b[1;32mif\u001b[0m \u001b[0mlabels\u001b[0m \u001b[1;32mis\u001b[0m \u001b[1;32mnot\u001b[0m \u001b[1;32mNone\u001b[0m\u001b[1;33m:\u001b[0m\u001b[1;33m\u001b[0m\u001b[1;33m\u001b[0m\u001b[0m\n\u001b[1;32m-> 4153\u001b[1;33m                 \u001b[0mobj\u001b[0m \u001b[1;33m=\u001b[0m \u001b[0mobj\u001b[0m\u001b[1;33m.\u001b[0m\u001b[0m_drop_axis\u001b[0m\u001b[1;33m(\u001b[0m\u001b[0mlabels\u001b[0m\u001b[1;33m,\u001b[0m \u001b[0maxis\u001b[0m\u001b[1;33m,\u001b[0m \u001b[0mlevel\u001b[0m\u001b[1;33m=\u001b[0m\u001b[0mlevel\u001b[0m\u001b[1;33m,\u001b[0m \u001b[0merrors\u001b[0m\u001b[1;33m=\u001b[0m\u001b[0merrors\u001b[0m\u001b[1;33m)\u001b[0m\u001b[1;33m\u001b[0m\u001b[1;33m\u001b[0m\u001b[0m\n\u001b[0m\u001b[0;32m   4154\u001b[0m \u001b[1;33m\u001b[0m\u001b[0m\n\u001b[0;32m   4155\u001b[0m         \u001b[1;32mif\u001b[0m \u001b[0minplace\u001b[0m\u001b[1;33m:\u001b[0m\u001b[1;33m\u001b[0m\u001b[1;33m\u001b[0m\u001b[0m\n",
      "\u001b[1;32m~\\anaconda3\\envs\\learn-env\\lib\\site-packages\\pandas\\core\\generic.py\u001b[0m in \u001b[0;36m_drop_axis\u001b[1;34m(self, labels, axis, level, errors)\u001b[0m\n\u001b[0;32m   4186\u001b[0m                 \u001b[0mnew_axis\u001b[0m \u001b[1;33m=\u001b[0m \u001b[0maxis\u001b[0m\u001b[1;33m.\u001b[0m\u001b[0mdrop\u001b[0m\u001b[1;33m(\u001b[0m\u001b[0mlabels\u001b[0m\u001b[1;33m,\u001b[0m \u001b[0mlevel\u001b[0m\u001b[1;33m=\u001b[0m\u001b[0mlevel\u001b[0m\u001b[1;33m,\u001b[0m \u001b[0merrors\u001b[0m\u001b[1;33m=\u001b[0m\u001b[0merrors\u001b[0m\u001b[1;33m)\u001b[0m\u001b[1;33m\u001b[0m\u001b[1;33m\u001b[0m\u001b[0m\n\u001b[0;32m   4187\u001b[0m             \u001b[1;32melse\u001b[0m\u001b[1;33m:\u001b[0m\u001b[1;33m\u001b[0m\u001b[1;33m\u001b[0m\u001b[0m\n\u001b[1;32m-> 4188\u001b[1;33m                 \u001b[0mnew_axis\u001b[0m \u001b[1;33m=\u001b[0m \u001b[0maxis\u001b[0m\u001b[1;33m.\u001b[0m\u001b[0mdrop\u001b[0m\u001b[1;33m(\u001b[0m\u001b[0mlabels\u001b[0m\u001b[1;33m,\u001b[0m \u001b[0merrors\u001b[0m\u001b[1;33m=\u001b[0m\u001b[0merrors\u001b[0m\u001b[1;33m)\u001b[0m\u001b[1;33m\u001b[0m\u001b[1;33m\u001b[0m\u001b[0m\n\u001b[0m\u001b[0;32m   4189\u001b[0m             \u001b[0mresult\u001b[0m \u001b[1;33m=\u001b[0m \u001b[0mself\u001b[0m\u001b[1;33m.\u001b[0m\u001b[0mreindex\u001b[0m\u001b[1;33m(\u001b[0m\u001b[1;33m**\u001b[0m\u001b[1;33m{\u001b[0m\u001b[0maxis_name\u001b[0m\u001b[1;33m:\u001b[0m \u001b[0mnew_axis\u001b[0m\u001b[1;33m}\u001b[0m\u001b[1;33m)\u001b[0m\u001b[1;33m\u001b[0m\u001b[1;33m\u001b[0m\u001b[0m\n\u001b[0;32m   4190\u001b[0m \u001b[1;33m\u001b[0m\u001b[0m\n",
      "\u001b[1;32m~\\anaconda3\\envs\\learn-env\\lib\\site-packages\\pandas\\core\\indexes\\base.py\u001b[0m in \u001b[0;36mdrop\u001b[1;34m(self, labels, errors)\u001b[0m\n\u001b[0;32m   5589\u001b[0m         \u001b[1;32mif\u001b[0m \u001b[0mmask\u001b[0m\u001b[1;33m.\u001b[0m\u001b[0many\u001b[0m\u001b[1;33m(\u001b[0m\u001b[1;33m)\u001b[0m\u001b[1;33m:\u001b[0m\u001b[1;33m\u001b[0m\u001b[1;33m\u001b[0m\u001b[0m\n\u001b[0;32m   5590\u001b[0m             \u001b[1;32mif\u001b[0m \u001b[0merrors\u001b[0m \u001b[1;33m!=\u001b[0m \u001b[1;34m\"ignore\"\u001b[0m\u001b[1;33m:\u001b[0m\u001b[1;33m\u001b[0m\u001b[1;33m\u001b[0m\u001b[0m\n\u001b[1;32m-> 5591\u001b[1;33m                 \u001b[1;32mraise\u001b[0m \u001b[0mKeyError\u001b[0m\u001b[1;33m(\u001b[0m\u001b[1;34mf\"{labels[mask]} not found in axis\"\u001b[0m\u001b[1;33m)\u001b[0m\u001b[1;33m\u001b[0m\u001b[1;33m\u001b[0m\u001b[0m\n\u001b[0m\u001b[0;32m   5592\u001b[0m             \u001b[0mindexer\u001b[0m \u001b[1;33m=\u001b[0m \u001b[0mindexer\u001b[0m\u001b[1;33m[\u001b[0m\u001b[1;33m~\u001b[0m\u001b[0mmask\u001b[0m\u001b[1;33m]\u001b[0m\u001b[1;33m\u001b[0m\u001b[1;33m\u001b[0m\u001b[0m\n\u001b[0;32m   5593\u001b[0m         \u001b[1;32mreturn\u001b[0m \u001b[0mself\u001b[0m\u001b[1;33m.\u001b[0m\u001b[0mdelete\u001b[0m\u001b[1;33m(\u001b[0m\u001b[0mindexer\u001b[0m\u001b[1;33m)\u001b[0m\u001b[1;33m\u001b[0m\u001b[1;33m\u001b[0m\u001b[0m\n",
      "\u001b[1;31mKeyError\u001b[0m: \"['cat_agezip_pop'] not found in axis\""
     ]
    }
   ],
   "source": [
    "df.drop(columns=[\"lot_area\", \"lot15_area\", \"age\", \"cat_age\" \"zip_pop\", \"cat_floors\", \"cat_condition\", \"cat_bathrooms\", \"sqft_lot15\", \"sqft_lot\"], inplace=True)"
   ]
  },
  {
   "cell_type": "code",
   "execution_count": 26,
   "metadata": {},
   "outputs": [],
   "source": [
    "scaled_dir = os.path.join(\"test_models\", \"ols_sweep_scaled\")"
   ]
  },
  {
   "cell_type": "code",
   "execution_count": 27,
   "metadata": {},
   "outputs": [
    {
     "output_type": "stream",
     "name": "stdout",
     "text": [
      "0:00:01.405419\n0:00:00.054756\n"
     ]
    }
   ],
   "source": [
    "modeling.ols_sweep(df, \"price\", n_vars=1, dst=scaled_dir)\n",
    "modeling.consolidate_results(\"test_models/ols_sweep_scaled/price~1/*\")"
   ]
  },
  {
   "cell_type": "code",
   "execution_count": 28,
   "metadata": {},
   "outputs": [
    {
     "output_type": "stream",
     "name": "stdout",
     "text": [
      "0:00:15.809499\n",
      "0:00:00.379313\n"
     ]
    }
   ],
   "source": [
    "modeling.ols_sweep(df, \"price\", n_vars=2, dst=scaled_dir)\n",
    "modeling.consolidate_results(\"test_models/ols_sweep_scaled/price~2/*\")"
   ]
  },
  {
   "cell_type": "code",
   "execution_count": 29,
   "metadata": {},
   "outputs": [
    {
     "output_type": "stream",
     "name": "stdout",
     "text": [
      "0:01:38.136824\n",
      "0:00:01.701400\n"
     ]
    }
   ],
   "source": [
    "modeling.ols_sweep(df, \"price\", n_vars=3, dst=scaled_dir)\n",
    "modeling.consolidate_results(\"test_models/ols_sweep_scaled/price~3/*\")"
   ]
  },
  {
   "cell_type": "code",
   "execution_count": 30,
   "metadata": {},
   "outputs": [
    {
     "output_type": "stream",
     "name": "stdout",
     "text": [
      "0:06:12.363347\n",
      "0:00:05.260165\n"
     ]
    }
   ],
   "source": [
    "modeling.ols_sweep(df, \"price\", n_vars=4, dst=scaled_dir)\n",
    "modeling.consolidate_results(\"test_models/ols_sweep_scaled/price~4/*\")"
   ]
  },
  {
   "cell_type": "code",
   "execution_count": 31,
   "metadata": {},
   "outputs": [
    {
     "output_type": "stream",
     "name": "stdout",
     "text": [
      "0:17:07.187111\n",
      "0:00:13.050460\n"
     ]
    }
   ],
   "source": [
    "modeling.ols_sweep(df, \"price\", n_vars=5, dst=scaled_dir)\n",
    "modeling.consolidate_results(\"test_models/ols_sweep_scaled/price~5/*\")"
   ]
  }
 ]
}