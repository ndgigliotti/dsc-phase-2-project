{
 "metadata": {
  "language_info": {
   "codemirror_mode": {
    "name": "ipython",
    "version": 3
   },
   "file_extension": ".py",
   "mimetype": "text/x-python",
   "name": "python",
   "nbconvert_exporter": "python",
   "pygments_lexer": "ipython3",
   "version": "3.8.5"
  },
  "orig_nbformat": 2,
  "kernelspec": {
   "name": "python385jvsc74a57bd059e26ad9c407dd7645dcb8e2d9bc0d2673d94e30e98cf8c20102503db6494b74",
   "display_name": "Python 3.8.5 64-bit ('base': conda)"
  }
 },
 "nbformat": 4,
 "nbformat_minor": 2,
 "cells": [
  {
   "cell_type": "code",
   "execution_count": 1,
   "metadata": {},
   "outputs": [],
   "source": [
    "import os\n",
    "import pandas as pd"
   ]
  },
  {
   "cell_type": "code",
   "execution_count": 2,
   "metadata": {},
   "outputs": [],
   "source": [
    "%load_ext autoreload\n",
    "%autoreload 2\n",
    "import modeling"
   ]
  },
  {
   "cell_type": "code",
   "execution_count": 3,
   "metadata": {},
   "outputs": [
    {
     "output_type": "stream",
     "name": "stdout",
     "text": [
      "<class 'pandas.core.frame.DataFrame'>\nInt64Index: 19030 entries, 6414100192 to 1523300157\nData columns (total 27 columns):\n #   Column         Non-Null Count  Dtype   \n---  ------         --------------  -----   \n 0   price          19030 non-null  float64 \n 1   bedrooms       19030 non-null  int64   \n 2   bathrooms      19030 non-null  float64 \n 3   sqft_living    19030 non-null  int64   \n 4   sqft_lot       19030 non-null  int64   \n 5   floors         19030 non-null  float64 \n 6   waterfront     19030 non-null  category\n 7   view           19030 non-null  int64   \n 8   condition      19030 non-null  int64   \n 9   grade          19030 non-null  int64   \n 10  sqft_above     19030 non-null  int64   \n 11  zipcode        19030 non-null  category\n 12  sqft_living15  19030 non-null  int64   \n 13  sqft_lot15     19030 non-null  int64   \n 14  cat_bedrooms   19030 non-null  category\n 15  cat_bathrooms  19030 non-null  category\n 16  cat_condition  19030 non-null  category\n 17  cat_grade      19030 non-null  category\n 18  cat_floors     19030 non-null  category\n 19  cat_view       19030 non-null  category\n 20  nearby_city    19030 non-null  category\n 21  zip_pop        19030 non-null  int64   \n 22  has_basement   19030 non-null  category\n 23  age            19030 non-null  int64   \n 24  cat_age        19030 non-null  category\n 25  lot_area       19030 non-null  category\n 26  lot15_area     19030 non-null  category\ndtypes: category(13), float64(3), int64(11)\nmemory usage: 2.4 MB\n"
     ]
    }
   ],
   "source": [
    "df = pd.read_pickle(os.path.join(\"data\", \"scrubbed_kc_house_data.pkl.bz2\"))\n",
    "df.info()"
   ]
  },
  {
   "cell_type": "code",
   "execution_count": 4,
   "metadata": {},
   "outputs": [],
   "source": [
    "df.drop(columns=[\"age\", \"cat_age\", \"zip_pop\", \"cat_condition\", \"condition\", \"sqft_lot15\", \"sqft_lot\"], inplace=True)"
   ]
  },
  {
   "cell_type": "code",
   "execution_count": 5,
   "metadata": {},
   "outputs": [],
   "source": [
    "modeling.ols_sweep(df, \"price\", n_vars=1)"
   ]
  },
  {
   "cell_type": "code",
   "execution_count": 6,
   "metadata": {},
   "outputs": [],
   "source": [
    "modeling.consolidate_results(\"test_models/ols_sweep/price~1/*\")"
   ]
  },
  {
   "cell_type": "code",
   "execution_count": 7,
   "metadata": {},
   "outputs": [],
   "source": [
    "modeling.ols_sweep(df, \"price\", n_vars=2)"
   ]
  },
  {
   "cell_type": "code",
   "execution_count": 8,
   "metadata": {},
   "outputs": [],
   "source": [
    "modeling.consolidate_results(\"test_models/ols_sweep/price~2/*\")"
   ]
  },
  {
   "cell_type": "code",
   "execution_count": 9,
   "metadata": {},
   "outputs": [],
   "source": [
    "modeling.ols_sweep(df, \"price\", n_vars=3)"
   ]
  },
  {
   "cell_type": "code",
   "execution_count": 10,
   "metadata": {},
   "outputs": [],
   "source": [
    "modeling.consolidate_results(\"test_models/ols_sweep/price~3/*\")"
   ]
  }
 ]
}