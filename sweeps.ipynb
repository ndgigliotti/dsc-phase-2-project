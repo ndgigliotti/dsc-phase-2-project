{
 "metadata": {
  "language_info": {
   "codemirror_mode": {
    "name": "ipython",
    "version": 3
   },
   "file_extension": ".py",
   "mimetype": "text/x-python",
   "name": "python",
   "nbconvert_exporter": "python",
   "pygments_lexer": "ipython3",
   "version": "3.8.5"
  },
  "orig_nbformat": 2,
  "kernelspec": {
   "name": "python385jvsc74a57bd045e948d0256f8c78ae85303b642a175be3add64c95f2eaa9e19fcfd099775c4c",
   "display_name": "Python 3.8.5 64-bit ('learn-env': conda)"
  }
 },
 "nbformat": 4,
 "nbformat_minor": 2,
 "cells": [
  {
   "source": [
    "# Feature Sweeps\n",
    "Warning: do not run this notebook unless you have at least 30 minutes on your hands."
   ],
   "cell_type": "markdown",
   "metadata": {}
  },
  {
   "cell_type": "code",
   "execution_count": 1,
   "metadata": {},
   "outputs": [],
   "source": [
    "import os\n",
    "import pandas as pd"
   ]
  },
  {
   "cell_type": "code",
   "execution_count": 2,
   "metadata": {},
   "outputs": [],
   "source": [
    "%load_ext autoreload\n",
    "%autoreload 2\n",
    "import modeling"
   ]
  },
  {
   "cell_type": "code",
   "execution_count": 3,
   "metadata": {},
   "outputs": [
    {
     "output_type": "stream",
     "name": "stdout",
     "text": [
      "<class 'pandas.core.frame.DataFrame'>\nInt64Index: 21420 entries, 7129300520 to 1523300157\nData columns (total 27 columns):\n #   Column         Non-Null Count  Dtype   \n---  ------         --------------  -----   \n 0   price          21420 non-null  float64 \n 1   bedrooms       21420 non-null  int64   \n 2   bathrooms      21420 non-null  float64 \n 3   sqft_living    21420 non-null  int64   \n 4   sqft_lot       21420 non-null  int64   \n 5   floors         21420 non-null  float64 \n 6   waterfront     21420 non-null  category\n 7   view           21420 non-null  int64   \n 8   condition      21420 non-null  int64   \n 9   grade          21420 non-null  int64   \n 10  sqft_above     21420 non-null  int64   \n 11  zipcode        21420 non-null  category\n 12  sqft_living15  21420 non-null  int64   \n 13  sqft_lot15     21420 non-null  int64   \n 14  cat_bedrooms   21420 non-null  category\n 15  cat_bathrooms  21420 non-null  category\n 16  cat_condition  21420 non-null  category\n 17  cat_grade      21420 non-null  category\n 18  cat_floors     21420 non-null  category\n 19  cat_view       21420 non-null  category\n 20  nearby_city    21420 non-null  category\n 21  zip_pop        21420 non-null  int64   \n 22  has_basement   21420 non-null  category\n 23  age            21420 non-null  int64   \n 24  cat_age        21420 non-null  category\n 25  lot_area       21420 non-null  category\n 26  lot15_area     21420 non-null  category\ndtypes: category(13), float64(3), int64(11)\nmemory usage: 2.7 MB\n"
     ]
    }
   ],
   "source": [
    "df = pd.read_pickle(os.path.join(\"data\", \"scrubbed_kc_house_data.pkl.bz2\"))\n",
    "df.info()"
   ]
  },
  {
   "source": [
    "I exclude variables that have poor linear relationships with price. I also exclude \"cat_bathrooms\", because it often results in coefficients with bad P-values."
   ],
   "cell_type": "markdown",
   "metadata": {}
  },
  {
   "cell_type": "code",
   "execution_count": 4,
   "metadata": {},
   "outputs": [],
   "source": [
    "df.drop(columns=[\"lot_area\", \"lot15_area\", \"age\", \"cat_age\", \"zip_pop\", \"cat_condition\", \"condition\", \"cat_bathrooms\", \"sqft_lot15\", \"sqft_lot\"], inplace=True)"
   ]
  },
  {
   "cell_type": "code",
   "execution_count": 15,
   "metadata": {},
   "outputs": [
    {
     "output_type": "stream",
     "name": "stdout",
     "text": [
      "0:00:01.525355\n"
     ]
    }
   ],
   "source": [
    "modeling.ols_sweep(df, \"price\", n_vars=1)"
   ]
  },
  {
   "cell_type": "code",
   "execution_count": 6,
   "metadata": {},
   "outputs": [
    {
     "output_type": "stream",
     "name": "stdout",
     "text": [
      "0:00:00.051430\n"
     ]
    }
   ],
   "source": [
    "modeling.consolidate_results(\"test_models/ols_sweep/price~1/*\")"
   ]
  },
  {
   "cell_type": "code",
   "execution_count": 7,
   "metadata": {},
   "outputs": [
    {
     "output_type": "stream",
     "name": "stdout",
     "text": [
      "0:00:17.562057\n"
     ]
    }
   ],
   "source": [
    "modeling.ols_sweep(df, \"price\", n_vars=2)"
   ]
  },
  {
   "cell_type": "code",
   "execution_count": 8,
   "metadata": {},
   "outputs": [
    {
     "output_type": "stream",
     "name": "stdout",
     "text": [
      "0:00:00.380048\n"
     ]
    }
   ],
   "source": [
    "modeling.consolidate_results(\"test_models/ols_sweep/price~2/*\")"
   ]
  },
  {
   "cell_type": "code",
   "execution_count": 9,
   "metadata": {},
   "outputs": [
    {
     "output_type": "stream",
     "name": "stdout",
     "text": [
      "0:01:45.332661\n"
     ]
    }
   ],
   "source": [
    "modeling.ols_sweep(df, \"price\", n_vars=3)"
   ]
  },
  {
   "cell_type": "code",
   "execution_count": 10,
   "metadata": {},
   "outputs": [
    {
     "output_type": "stream",
     "name": "stdout",
     "text": [
      "0:00:01.777893\n"
     ]
    }
   ],
   "source": [
    "modeling.consolidate_results(\"test_models/ols_sweep/price~3/*\")"
   ]
  },
  {
   "cell_type": "code",
   "execution_count": 11,
   "metadata": {},
   "outputs": [
    {
     "output_type": "stream",
     "name": "stdout",
     "text": [
      "0:06:54.169471\n"
     ]
    }
   ],
   "source": [
    "modeling.ols_sweep(df, \"price\", n_vars=4)"
   ]
  },
  {
   "cell_type": "code",
   "execution_count": 12,
   "metadata": {},
   "outputs": [
    {
     "output_type": "stream",
     "name": "stdout",
     "text": [
      "0:00:05.418157\n"
     ]
    }
   ],
   "source": [
    "modeling.consolidate_results(\"test_models/ols_sweep/price~4/*\")"
   ]
  },
  {
   "cell_type": "code",
   "execution_count": 13,
   "metadata": {},
   "outputs": [
    {
     "output_type": "stream",
     "name": "stdout",
     "text": [
      "0:19:49.931460\n"
     ]
    }
   ],
   "source": [
    "modeling.ols_sweep(df, \"price\", n_vars=5)"
   ]
  },
  {
   "cell_type": "code",
   "execution_count": 14,
   "metadata": {},
   "outputs": [
    {
     "output_type": "stream",
     "name": "stdout",
     "text": [
      "0:00:13.099056\n"
     ]
    }
   ],
   "source": [
    "modeling.consolidate_results(\"test_models/ols_sweep/price~5/*\")"
   ]
  }
 ]
}