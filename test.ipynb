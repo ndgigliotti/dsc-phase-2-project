{
 "metadata": {
  "language_info": {
   "codemirror_mode": {
    "name": "ipython",
    "version": 3
   },
   "file_extension": ".py",
   "mimetype": "text/x-python",
   "name": "python",
   "nbconvert_exporter": "python",
   "pygments_lexer": "ipython3",
   "version": "3.8.5"
  },
  "orig_nbformat": 2,
  "kernelspec": {
   "name": "python385jvsc74a57bd045e948d0256f8c78ae85303b642a175be3add64c95f2eaa9e19fcfd099775c4c",
   "display_name": "Python 3.8.5 64-bit ('learn-env': conda)"
  }
 },
 "nbformat": 4,
 "nbformat_minor": 2,
 "cells": [
  {
   "cell_type": "code",
   "execution_count": 1,
   "metadata": {},
   "outputs": [],
   "source": [
    "import numpy as np \n",
    "import pandas as pd \n"
   ]
  },
  {
   "cell_type": "code",
   "execution_count": 2,
   "metadata": {},
   "outputs": [],
   "source": [
    "%load_ext autoreload\n",
    "%autoreload 2\n",
    "import cleaning\n",
    "import outliers\n",
    "import plotting\n",
    "import modeling\n",
    "import utils"
   ]
  },
  {
   "cell_type": "code",
   "execution_count": 7,
   "metadata": {},
   "outputs": [
    {
     "output_type": "execute_result",
     "data": {
      "text/plain": [
       "array([90.721019  , 41.72885224, 97.57337059, 39.46590043, 72.86592673,\n",
       "       88.41897112, 65.89584586, 45.16236792, 57.07235374, 43.49917201,\n",
       "       60.32811987, 89.28489465, 51.85078607, 69.2214421 , 77.27142681,\n",
       "       65.91800446, 77.40718759, 53.82213269, 67.10427199])"
      ]
     },
     "metadata": {},
     "execution_count": 7
    }
   ],
   "source": [
    "rng = np.random.default_rng()\n",
    "rng.uniform(38.3, high=103.8, size=(19))"
   ]
  },
  {
   "cell_type": "code",
   "execution_count": 15,
   "metadata": {},
   "outputs": [
    {
     "output_type": "execute_result",
     "data": {
      "text/plain": [
       "1e-15"
      ]
     },
     "metadata": {},
     "execution_count": 15
    }
   ],
   "source": [
    "0.0 + np.finfo(np.float64).resolution"
   ]
  },
  {
   "cell_type": "code",
   "execution_count": null,
   "metadata": {},
   "outputs": [],
   "source": []
  }
 ]
}